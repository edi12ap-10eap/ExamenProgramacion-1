{
  "nbformat": 4,
  "nbformat_minor": 0,
  "metadata": {
    "colab": {
      "name": "FinalProgramacion_A.ipynb",
      "provenance": [],
      "collapsed_sections": [],
      "include_colab_link": true
    },
    "kernelspec": {
      "name": "python3",
      "display_name": "Python 3"
    }
  },
  "cells": [
    {
      "cell_type": "markdown",
      "metadata": {
        "id": "view-in-github",
        "colab_type": "text"
      },
      "source": [
        "<a href=\"https://colab.research.google.com/github/ryali93/ExamenProgramacion/blob/master/FinalProgramacion_A.ipynb\" target=\"_parent\"><img src=\"https://colab.research.google.com/assets/colab-badge.svg\" alt=\"Open In Colab\"/></a>"
      ]
    },
    {
      "cell_type": "markdown",
      "metadata": {
        "id": "y7Oq4Se1jAkk",
        "colab_type": "text"
      },
      "source": [
        "# FINAL DE PROGRAMACIÓN - A"
      ]
    },
    {
      "cell_type": "markdown",
      "metadata": {
        "id": "d6Dtx5cijHuN",
        "colab_type": "text"
      },
      "source": [
        "Nombres y apellidos: \n",
        "\n",
        "Código: "
      ]
    },
    {
      "cell_type": "markdown",
      "metadata": {
        "id": "V2Gv10h-SbX4",
        "colab_type": "text"
      },
      "source": [
        "***\n",
        "Instrucciones:\n",
        "- El examen es personal\n",
        "- Se puede usar internet\n",
        "- Una vez terminado, descargar en formato **.ipynb** su examen con su código de estudiante y subir a esta [carpeta compartida](https://drive.google.com/drive/folders/1A1kFj2ctFlF3KVpa2q25n-4eR0MY8QGv) (ejemplo: 17160099.ipynb)\n",
        "- **En caso tengan la idea, pero no le sale, se considerará explicar lo que quiere realizar.**\n",
        "***"
      ]
    },
    {
      "cell_type": "markdown",
      "metadata": {
        "id": "2NrjVzQIjRH2",
        "colab_type": "text"
      },
      "source": [
        "## PREGUNTAS"
      ]
    },
    {
      "cell_type": "markdown",
      "metadata": {
        "id": "RsybLig8M_PM",
        "colab_type": "text"
      },
      "source": [
        "### **1. Teoría**"
      ]
    },
    {
      "cell_type": "markdown",
      "metadata": {
        "id": "GJmUD1eKM_Ik",
        "colab_type": "text"
      },
      "source": [
        "1_1 Explique **con sus propias palabras** qué es Colab."
      ]
    },
    {
      "cell_type": "markdown",
      "metadata": {
        "id": "CRBKzAIEM_CC",
        "colab_type": "text"
      },
      "source": [
        "1_2 ¿Cuál es la diferencia entre una tupla y un diccionario?"
      ]
    },
    {
      "cell_type": "markdown",
      "metadata": {
        "id": "sAJASl4ZNQCS",
        "colab_type": "text"
      },
      "source": [
        "1_3 Explique **con sus propias palabras** para qué puede servir web scrapping."
      ]
    },
    {
      "cell_type": "markdown",
      "metadata": {
        "id": "RR7IK7mxNP7g",
        "colab_type": "text"
      },
      "source": [
        "1_4 Cuál es la diferencia entre un DataFrame y un GeoDataFrame."
      ]
    },
    {
      "cell_type": "markdown",
      "metadata": {
        "id": "t3570C7GNTHy",
        "colab_type": "text"
      },
      "source": [
        "1_5 Explique **con sus propias palabras** para qué puede servir usar geocódigos.\n"
      ]
    },
    {
      "cell_type": "markdown",
      "metadata": {
        "id": "1D798an3pbWx",
        "colab_type": "text"
      },
      "source": [
        "1_6 Explique con sus propias palabras 2 librerías de python para el manejo de datos espaciales."
      ]
    },
    {
      "cell_type": "markdown",
      "metadata": {
        "id": "piq_lpOBpj-6",
        "colab_type": "text"
      },
      "source": [
        "1_7 Mencione **con sus propias palabras** alguna utilidad de Google Earth Engine."
      ]
    },
    {
      "cell_type": "markdown",
      "metadata": {
        "id": "Kko0ftkgN30B",
        "colab_type": "text"
      },
      "source": [
        "### **2. Sintaxis de python:**"
      ]
    },
    {
      "cell_type": "markdown",
      "metadata": {
        "id": "QA9aIjwEO3G-",
        "colab_type": "text"
      },
      "source": [
        "2_1 Una aplicación de la teledetección es calcular el Indice de Vegetación Normalizado (NDVI). En caso se use una imagen del satelite Landsat se tienen 8 bandas. En caso se tengan los datos de la siguiente manera, calcular el NDVI.\n",
        "\n",
        "$$NDVI = \\frac{BANDA_4 - BANDA_3} {BANDA_4 + BANDA_3}$$\n"
      ]
    },
    {
      "cell_type": "code",
      "metadata": {
        "id": "1RkhsJnSsRO8",
        "colab_type": "code",
        "colab": {}
      },
      "source": [
        "dato = {\"B1\":5, \"B2\":4, \"B3\":6, \"B4\":8, \"B5\":7, \"B6\":5, \"B7\":6, \"B8\":4} # Datos referenciales"
      ],
      "execution_count": 0,
      "outputs": []
    },
    {
      "cell_type": "markdown",
      "metadata": {
        "id": "qFBd7g-ZO4ZE",
        "colab_type": "text"
      },
      "source": [
        "2_2 Crea una función que hayas aplicado en algún otro curso en el que estés matriculado. Explique."
      ]
    },
    {
      "cell_type": "markdown",
      "metadata": {
        "id": "vLRiqsdKNe1M",
        "colab_type": "text"
      },
      "source": [
        "### **3. Manipulación de datos espaciales:**"
      ]
    },
    {
      "cell_type": "markdown",
      "metadata": {
        "id": "GjCrf9cmiyp2",
        "colab_type": "text"
      },
      "source": [
        "3_1 Leer el archivo de [Incendios Forestales](https://github.com/ryali93/ExamenProgramacion/blob/master/data/IncendiosForestales.csv) y crear un DataFrame."
      ]
    },
    {
      "cell_type": "markdown",
      "metadata": {
        "id": "Q6ECnz2Ki-7e",
        "colab_type": "text"
      },
      "source": [
        "3_2 Realizar una consulta al DataFrame para extraer los datos de Incendios que pertenezcan al departamento de Loreto en el año 2010."
      ]
    },
    {
      "cell_type": "markdown",
      "metadata": {
        "id": "Pr2x85gti-wp",
        "colab_type": "text"
      },
      "source": [
        "3_3 Usando *numpy* o *pandas*. ¿Cuántas provincias de Loreto han sido afectadas en el 2010?"
      ]
    },
    {
      "cell_type": "markdown",
      "metadata": {
        "id": "i2b8O2tsi-ui",
        "colab_type": "text"
      },
      "source": [
        "3_4 Generar un GeodataFrame para la consulta a partir de las coordenadas"
      ]
    },
    {
      "cell_type": "markdown",
      "metadata": {
        "id": "yDpbWQpYi-pO",
        "colab_type": "text"
      },
      "source": [
        "3_5 Exportar la data creada a un archivo shapefile y visualizar los datos usando folium"
      ]
    },
    {
      "cell_type": "markdown",
      "metadata": {
        "id": "PdgMOU-VmRip",
        "colab_type": "text"
      },
      "source": [
        "3_6 Leer los datos del ejercicio 3_1. Utilizando la **sintaxis de SQL**. ¿Cuál sería la sentencia para leer los valores únicos de la columna de provincias?"
      ]
    },
    {
      "cell_type": "markdown",
      "metadata": {
        "id": "62YRaLNoVuh0",
        "colab_type": "text"
      },
      "source": [
        "## **4. Pregunta extra**"
      ]
    },
    {
      "cell_type": "markdown",
      "metadata": {
        "id": "AxmHDBN2Vud_",
        "colab_type": "text"
      },
      "source": [
        "4_1 Cuando se recolectan datos de campo, generalmente se crea una nube de puntos (ya sean elevaciones o algún dato climático) existen algunas formas de interpolar estos datos; una metodología bastante común es la ecuación IDW o Ponderado de Inversa a la Distancia, que calcula el valor de un punto (desconocido) en base a los valores y las distancias a los demás. Realizar una función que, en base a los valores y distancias, permita calcular este nuevo valor.\n",
        "\n",
        "Se adjunta ecuación e imagen de cómo se aplica.\n",
        "\n",
        "$$z_p = \\frac{\\sum_{i=1}^{n} \\frac{z_i} {d_i^p}} {\\sum_{i=1}^{n}\\frac{1}{d_i^p}}$$\n",
        "\n",
        "<img width=\"600\" alt=\"portfolio_view\" src=\"https://community.esri.com/servlet/JiveServlet/download/264856-1-30888/Clip_282.jpg\">\n",
        "\n",
        "\n",
        "\n"
      ]
    }
  ]
}